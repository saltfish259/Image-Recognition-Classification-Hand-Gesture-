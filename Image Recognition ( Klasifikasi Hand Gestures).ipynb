{
  "cells": [
    {
      "cell_type": "markdown",
      "metadata": {
        "id": "view-in-github",
        "colab_type": "text"
      },
      "source": [
        "<a href=\"https://colab.research.google.com/github/saltfish259/Image-Recognition-Classification-Hand-Gesture-/blob/main/Image%20Recognition%20(%20Klasifikasi%20Hand%20Gestures).ipynb\" target=\"_parent\"><img src=\"https://colab.research.google.com/assets/colab-badge.svg\" alt=\"Open In Colab\"/></a>"
      ]
    },
    {
      "cell_type": "markdown",
      "metadata": {
        "id": "H9wADwK78DCz"
      },
      "source": [
        "# Proyek Klasifikasi Gambar: [Hand Gestures Recognition]\n",
        "- **Email:** zulvikar.hatuwe730@gmail.com\n",
        "- **Dataset:** https://www.kaggle.com/datasets/sprakash08/hand-gestures-recognition?select=dataset\n"
      ]
    },
    {
      "cell_type": "markdown",
      "metadata": {
        "id": "jYpsuK3e20G2"
      },
      "source": [
        "## Import Libraries"
      ]
    },
    {
      "cell_type": "markdown",
      "source": [
        "**Tensorflow** : Framework open source yang digunakan untuk machine learning dan deep learning.\n",
        "\n",
        "**ImageDataGenerator** : Kelas dasar dari keras (bagian dari tensorflow) yang digunakan untuk preprocessing gambar.\n",
        "\n",
        "**Sequential** : Jenis model Keras yang memungkikan pembuatan neural network secara berurutan.\n",
        "\n",
        "**Layers** :  \n",
        "- **Conv2D**: Layer konvolusi digunakan untuk memproses gambar 2D.\n",
        "- **MaxPooling2D**: Layer pooling untuk mereduksi dimensi dari output Conv2D.\n",
        "- **Flatten**: Layer yang mengubah data output dari layer2d(matriks) menjadi satu dimensi.\n",
        "- **Dense**: dimana setiap neuron tehrubung dengan semua neuron di layers sebelumnya.\n",
        "- **Dropout**: teknik regularisasi yang secara acak menonaktifkan sejumlah euron selama pelatihan untuk mencegah overfitting.\n",
        "\n",
        "**Callback** : Callback memungkikan menjalankan fungsi seperti menghentikan pelatihan lebih awal ( early stopping ), menyimpan model terbaik, atau memantau peforma secara real time.\n",
        "\n",
        "**Matplotlib** : Library visual data."
      ],
      "metadata": {
        "id": "u8oL-0Ou8BUR"
      }
    },
    {
      "cell_type": "code",
      "execution_count": 1,
      "metadata": {
        "id": "FHetwCrE0h_o"
      },
      "outputs": [],
      "source": [
        "import tensorflow as tf\n",
        "from tensorflow.keras.preprocessing.image import ImageDataGenerator\n",
        "from tensorflow.keras.models import Sequential\n",
        "from tensorflow.keras.layers import Conv2D, MaxPooling2D, Flatten, Dense, Dropout\n",
        "from tensorflow.keras.callbacks import Callback\n",
        "\n",
        "import matplotlib.pyplot as plt"
      ]
    },
    {
      "cell_type": "markdown",
      "metadata": {
        "id": "HRo_n8Ny24P8"
      },
      "source": [
        "## Unzip Dataset"
      ]
    },
    {
      "cell_type": "markdown",
      "source": [
        "1. `!pip install rarfile`\n",
        "- digunakan untuk menginstall **rarfile**, sebuah library python yang memungkikan membaca file arsip berformat `.rar`\n",
        "\n",
        "2. `!apt-get install unrar`\n",
        "- digunakan untuk menginstall `unrar` semuah program yang memungkian sistem oberasi untuk mengekstrak file arsip `.rar`\n",
        "\n"
      ],
      "metadata": {
        "id": "HaqdIOP78CI3"
      }
    },
    {
      "cell_type": "code",
      "execution_count": 2,
      "metadata": {
        "colab": {
          "base_uri": "https://localhost:8080/"
        },
        "id": "D8N0rxFP4GEt",
        "outputId": "3a3a9739-4253-4e8d-dc62-3f4105b04efe"
      },
      "outputs": [
        {
          "output_type": "stream",
          "name": "stdout",
          "text": [
            "Collecting rarfile\n",
            "  Downloading rarfile-4.2-py3-none-any.whl.metadata (4.4 kB)\n",
            "Downloading rarfile-4.2-py3-none-any.whl (29 kB)\n",
            "Installing collected packages: rarfile\n",
            "Successfully installed rarfile-4.2\n",
            "Reading package lists... Done\n",
            "Building dependency tree... Done\n",
            "Reading state information... Done\n",
            "unrar is already the newest version (1:6.1.5-1).\n",
            "0 upgraded, 0 newly installed, 0 to remove and 49 not upgraded.\n"
          ]
        }
      ],
      "source": [
        "!pip install rarfile\n",
        "!apt-get install unrar"
      ]
    },
    {
      "cell_type": "markdown",
      "source": [
        "Kode ini berfungsi untuk membuka file `.rar`, kemudian mengekstrak isi folder yang ditentukan.\n",
        "1. `import rarfile `\n",
        "- Berfungsi Mengimpor libarry rarfile yang digunakan untuk bekerja dengan file arsip .rar di python.\n",
        "2. `with rarfile.RarFile('Hand Gesture.rar') as rar_ref: `\n",
        "- berfungsi untuk membuka file arsib bernama `Hand Gesture.rar` dan membuat objek `rar_ref` untuk mengakses isi dari file tersebut. `with` memastikan bahwa file ditutup secara otomatis setelah selesai di proses.\n",
        "3. `rar_ref.extractall('Hand_Gesture')`\n",
        "- Berfungsi untuk mengekstrak semua file yang ada di dalam arsip `Hand Gesture.rar` ke direktori `Hand_Gesture`."
      ],
      "metadata": {
        "id": "xxO2XHY28C1f"
      }
    },
    {
      "cell_type": "code",
      "execution_count": 3,
      "metadata": {
        "id": "oiA7X5qg23SH"
      },
      "outputs": [],
      "source": [
        "import rarfile\n",
        "\n",
        "with rarfile.RarFile('Hand Gesture.rar') as rar_ref:\n",
        "    rar_ref.extractall('Hand_Gesture')"
      ]
    },
    {
      "cell_type": "markdown",
      "metadata": {
        "id": "gO-eb7bB28sl"
      },
      "source": [
        "## Load Data"
      ]
    },
    {
      "cell_type": "markdown",
      "source": [
        "Kode ini mempersiapkan data pelatihan dan validasi untuk model klasifikasi gambar.\n",
        "1. `train_datagen = ImageDataGenerator(rescale=1./255, validation_split=0.2) `\n",
        "- Membuat generator gambar dengan rescaling (normalisasi) pixel gambar ke rentan 0-1 dan membagi dataset menjadi 80% untuk pelatihan dan 20% untuk validasi.\n",
        "\n",
        "2. `train_generator = train_datagen.flow_from_directory(...)`\n",
        "- Megambil gambar dari `'Hand_Gesture/Hand Gesture/'`, mengubah ukuran menjadi 70 x 90 pixel, dan mengelompokkan data menjadi batch dengan ukuran 32.\n",
        "- Data ini digunakan untuk pelatihan subset='training' .\n",
        "\n",
        "3. `validation_generator = train_datagen.flow_from_directory(...) `\n",
        "- Sama seperti train_generator, tetapi subset ini digunakan untuk validasi `subset='validation'`."
      ],
      "metadata": {
        "id": "q7Jy7iPv8Df_"
      }
    },
    {
      "cell_type": "code",
      "execution_count": 4,
      "metadata": {
        "colab": {
          "base_uri": "https://localhost:8080/"
        },
        "id": "NbUE9OoS28LO",
        "outputId": "a1fc5a68-4fb9-4344-814d-d7176a2fc64f"
      },
      "outputs": [
        {
          "output_type": "stream",
          "name": "stdout",
          "text": [
            "Found 8614 images belonging to 7 classes.\n",
            "Found 2149 images belonging to 7 classes.\n"
          ]
        }
      ],
      "source": [
        "train_datagen = ImageDataGenerator(rescale=1./255, validation_split=0.2)\n",
        "\n",
        "train_generator = train_datagen.flow_from_directory(\n",
        "    'Hand_Gesture/Hand Gesture/',\n",
        "    target_size=(70, 90),\n",
        "    batch_size=32,\n",
        "    class_mode='categorical',\n",
        "    subset='training'\n",
        ")\n",
        "\n",
        "validation_generator = train_datagen.flow_from_directory(\n",
        "    'Hand_Gesture/Hand Gesture/',\n",
        "    target_size=(70, 90),\n",
        "    batch_size=32,\n",
        "    class_mode='categorical',\n",
        "    subset='validation'\n",
        ")"
      ]
    },
    {
      "cell_type": "markdown",
      "metadata": {
        "id": "WaEpBrOn3KXM"
      },
      "source": [
        "## CNN Model"
      ]
    },
    {
      "cell_type": "markdown",
      "source": [
        "Ini adalah model CNN yang digunakan untuk menglasifikasikan gambar menjadi 7 kelas.\n",
        "1. `model = Sequential([...])`\n",
        "- Membuat instance dari model Sequential, yang memungkikan penambahan layer secara berurutan.\n",
        "2. ` Conv2D(32, (3, 3), activation='relu', input_shape=(70, 90, 3))`\n",
        "- Menambahkan layer konvolusi 2D pertama dengan 32 filter berukuran 3x3. Fungsi aktivasi yang dapat digunakan adalah **ReLU (Rectified Liniear Unit)**. `input_shape=(70, 90, 3)` menunjukkan bahwa input adalah gambar berukuran 70x90 dengan 3 saluran warna (RGB).\n",
        "3. `MaxPooling2D(pool_size=(2, 2))`\n",
        "- Menambahkan layer max pooling yang mereduksi dimensi ouput dari layer sebelumnya dengan mengambil nilai maksimum dari setiap blox 2x2 pixel, membantu mengurangi ukuran data dan meningkatkan komputasi.\n",
        "4. `Conv2D(64, (3, 3), activation='relu')`\n",
        "- Menambahkan konvolusi layer kedua dengan 64 filter berukuran 3x3 dan fungsi aktivasi ReLU. Layer ini akan menangkap fitur yang lebih kompleks dari data gambar.\n",
        "5. `Conv2D(128, (3, 3), activation='relu')`\n",
        "- Menambahkan konvolusi layer ketiga dengan 128 filter berukuran 3x3 dan fungsi aktivasi ReLU. untuk mendeteksi fitur yang lebih mendetail.\n",
        "6. `Flatten()`\n",
        "- Mengubah output dari layer 2D (matriks) menjadi satu dimensi (vektor) agar dapat diproses oleh layer dense berikutnya.\n",
        "7. `Dense(128, activation='relu')`\n",
        "- Menambahkan fully connected layer (layer dense) dengan 128 neuron dan fungsi aktivasi ReLU. untuk memproses fitur yang dihasilkan dari layer konvolusi sebelumnya.\n",
        "8. `Dropout(0.5)`\n",
        "- Menambahkan layer dropout yang secara acak menonaktifkan 50% neuron selama pelatihan untuk mencegah overfitting.\n",
        "9. `Dense(7, activation='softmax')`\n",
        "- Menambahkan layer output dengan 7 neuron (sama dengan jumlah kelas) dan fungsi softmax, yang akan menghasilkan probabilitas untuk setiap kelas.\n",
        "10. `model.compile(optimizer='adam', loss='categorical_crossentropy', metrics=['accuracy'])`\n",
        "- `model.compile(...)`, Mengompilasi model.\n",
        "- `optimizer='adam'`, Menggunakan algoritma Adam sebagai optimizer, yang efisien dalam pembaruan bobot.\n",
        "- `loss='categorical_crossentropy'`, Menggunakan fungsi loss categorical crossentropy untuk klasifikasi multi-kelas.\n",
        "- `metrics=['accuracy']`, menambahkan metrik akurasi untuk mengevaluasi kinerja model selama pelatihan dan pengujian"
      ],
      "metadata": {
        "id": "6NwjsGhK8EJH"
      }
    },
    {
      "cell_type": "code",
      "execution_count": 5,
      "metadata": {
        "colab": {
          "base_uri": "https://localhost:8080/"
        },
        "id": "zZR9nyMX3Lt2",
        "outputId": "bd0919b7-d819-474f-a03f-c3d029a35e7a"
      },
      "outputs": [
        {
          "output_type": "stream",
          "name": "stderr",
          "text": [
            "/usr/local/lib/python3.10/dist-packages/keras/src/layers/convolutional/base_conv.py:107: UserWarning: Do not pass an `input_shape`/`input_dim` argument to a layer. When using Sequential models, prefer using an `Input(shape)` object as the first layer in the model instead.\n",
            "  super().__init__(activity_regularizer=activity_regularizer, **kwargs)\n"
          ]
        }
      ],
      "source": [
        "model = Sequential([  # Model Sequential\n",
        "    Conv2D(32, (3, 3), activation='relu', input_shape=(70, 90, 3)),  # Conv2D layer\n",
        "    MaxPooling2D(pool_size=(2, 2)),  # Pooling Layer (MaxPooling2D)\n",
        "\n",
        "    Conv2D(64, (3, 3), activation='relu'),  # Conv2D layer\n",
        "    MaxPooling2D(pool_size=(2, 2)),  # Pooling Layer (MaxPooling2D)\n",
        "\n",
        "    Conv2D(128, (3, 3), activation='relu'),  # Conv2D layer\n",
        "    MaxPooling2D(pool_size=(2, 2)),  # Pooling Layer (MaxPooling2D)\n",
        "\n",
        "    Flatten(),\n",
        "    Dense(128, activation='relu'),\n",
        "    Dropout(0.5),\n",
        "    Dense(7, activation='softmax')\n",
        "])\n",
        "\n",
        "model.compile(optimizer='adam', loss='categorical_crossentropy', metrics=['accuracy'])\n"
      ]
    },
    {
      "cell_type": "markdown",
      "metadata": {
        "id": "XK_TLneb_XsG"
      },
      "source": [
        "## Callbacks\n"
      ]
    },
    {
      "cell_type": "markdown",
      "source": [
        "Callback ini digunakan untuk mencegah overfitting dengan menghentikan pelatihan ketika model tidakmenunjukkan perbaikan pad aakurasi setelah sejumlah epoch tertentu.\n",
        "1. `early_stopping = tf.keras.callbacks.EarlyStopping`\n",
        "- Membuat instance dari callback EarlyStopping untuk menghentikan pelatihan model lebih awal jika metrik yang dipantau tidak menunjukkan perbaikan.\n",
        "2. `monitor='accuracy'`\n",
        "- Menentukan metrik yang akan dipantau. dalam hal ini, akurasi (accuracy) dari model akan dipantau selama pelatihan.\n",
        "3. `patience=2`\n",
        "- Menentukan jumlah epoch yang harus dilalui tanpa perbaikan pada metrik yang dipantau sebelum pelatihan dihentikan. Jika akurasi tidak meningkat selama 2 epoch berturut-turut, pelatihan akan dihentikan.\n",
        "4. `restore_best_weights=Tru`\n",
        "- Menyimpan bobot terbaik dari model yangdicapai selama pelatihan, sehingga jika pelatihandihentikan lebih awal, model akan kembali menggunakan bobot terbaik yang pernah didapat."
      ],
      "metadata": {
        "id": "kjun0bVv8E1X"
      }
    },
    {
      "cell_type": "code",
      "execution_count": 6,
      "metadata": {
        "id": "bXqDYV_Y_WK9"
      },
      "outputs": [],
      "source": [
        "early_stopping = tf.keras.callbacks.EarlyStopping(\n",
        "    monitor='accuracy',\n",
        "    patience=2,\n",
        "    restore_best_weights=True\n",
        ")"
      ]
    },
    {
      "cell_type": "markdown",
      "source": [
        "1. `callbacks = [early_stopping]`\n",
        "- Membuat daftar callbacks yang berisi objek early_stopping yang telah didenfitikasikan sebelumnya. Daftar ini akan digunakan saat melatih model untuk menerapkan semua callback yang ada dalam data tersebut. Dalam konteks ini, saat pelatihan model, callback early_stopping akan digunakan untuk memantau akurasi dan mengehtnikan pelatihan jika tidak ada perbaikan."
      ],
      "metadata": {
        "id": "u6ZF_GJ4EE1e"
      }
    },
    {
      "cell_type": "code",
      "execution_count": 7,
      "metadata": {
        "id": "npec_PXNJKQZ"
      },
      "outputs": [],
      "source": [
        "callbacks = [early_stopping]"
      ]
    },
    {
      "cell_type": "markdown",
      "metadata": {
        "id": "OWsGNM8x3QNV"
      },
      "source": [
        "## Train Model"
      ]
    },
    {
      "cell_type": "markdown",
      "source": [
        "Kode ini melatih model menggunakan data pelatihan dan validasi yang diberikan, selama 10 epoch, dengan menerapkan callback untuk mengoptimalkan proses pelatihan. Hasil dari pelatihan disimpan dalam variabel History untuk analisis.\n",
        "1. `history = model.fit`\n",
        "- Memanggil metode fit pada objek model untuk melatih model dengan data yang disediakan. hasil dari pelatihan akan disimpan dalam variabel history.\n",
        "2. `train_generator`\n",
        "- Menyediakan generator data pelatihan yang telah dibuat sebelumnya. ini berisi gambar dan label untuk proses pelatihan.\n",
        "3. `ochs=10`\n",
        "- Menentukan jumlah epoch (putaran penuh melalui seluruh dataset pelatihan) yang akandilakukan selama pelatihan. Dalam hal ini, pelatihan akan dilakukan selama 10 epoch.\n",
        "4. `validation_data=validation_generator`\n",
        "- Menyediakan generator data validasi yang digunakan untuk mengevaluasi model setelah setiap epoch. ini membantu dalam memantau kinerja model pada data yang tidak terlihat selama pelatihan.\n",
        "5. `callbacks=callbacks`\n",
        "- Menyediakan daftar callback yang akan diterapkan selama pelatihan. Di sini, early_stopping akan dipantau untuk menghentikan pelatihan lebih awal jika akurasi tidak meningkat."
      ],
      "metadata": {
        "id": "Vru3YMRq8Fb_"
      }
    },
    {
      "cell_type": "code",
      "execution_count": 8,
      "metadata": {
        "colab": {
          "base_uri": "https://localhost:8080/"
        },
        "id": "BuZYx4Y53SBk",
        "outputId": "751bdca4-0321-46de-f1f9-bd8ed4aa88dc"
      },
      "outputs": [
        {
          "output_type": "stream",
          "name": "stdout",
          "text": [
            "Epoch 1/10\n"
          ]
        },
        {
          "output_type": "stream",
          "name": "stderr",
          "text": [
            "/usr/local/lib/python3.10/dist-packages/keras/src/trainers/data_adapters/py_dataset_adapter.py:121: UserWarning: Your `PyDataset` class should call `super().__init__(**kwargs)` in its constructor. `**kwargs` can include `workers`, `use_multiprocessing`, `max_queue_size`. Do not pass these arguments to `fit()`, as they will be ignored.\n",
            "  self._warn_if_super_not_called()\n"
          ]
        },
        {
          "output_type": "stream",
          "name": "stdout",
          "text": [
            "\u001b[1m270/270\u001b[0m \u001b[32m━━━━━━━━━━━━━━━━━━━━\u001b[0m\u001b[37m\u001b[0m \u001b[1m108s\u001b[0m 390ms/step - accuracy: 0.8209 - loss: 0.5022 - val_accuracy: 1.0000 - val_loss: 0.0019\n",
            "Epoch 2/10\n",
            "\u001b[1m270/270\u001b[0m \u001b[32m━━━━━━━━━━━━━━━━━━━━\u001b[0m\u001b[37m\u001b[0m \u001b[1m99s\u001b[0m 367ms/step - accuracy: 0.9949 - loss: 0.0181 - val_accuracy: 1.0000 - val_loss: 5.5537e-06\n",
            "Epoch 3/10\n",
            "\u001b[1m270/270\u001b[0m \u001b[32m━━━━━━━━━━━━━━━━━━━━\u001b[0m\u001b[37m\u001b[0m \u001b[1m134s\u001b[0m 336ms/step - accuracy: 0.9937 - loss: 0.0223 - val_accuracy: 1.0000 - val_loss: 1.5783e-06\n",
            "Epoch 4/10\n",
            "\u001b[1m270/270\u001b[0m \u001b[32m━━━━━━━━━━━━━━━━━━━━\u001b[0m\u001b[37m\u001b[0m \u001b[1m143s\u001b[0m 341ms/step - accuracy: 0.9964 - loss: 0.0094 - val_accuracy: 1.0000 - val_loss: 3.4488e-05\n",
            "Epoch 5/10\n",
            "\u001b[1m270/270\u001b[0m \u001b[32m━━━━━━━━━━━━━━━━━━━━\u001b[0m\u001b[37m\u001b[0m \u001b[1m140s\u001b[0m 335ms/step - accuracy: 0.9959 - loss: 0.0122 - val_accuracy: 1.0000 - val_loss: 1.7129e-05\n",
            "Epoch 6/10\n",
            "\u001b[1m270/270\u001b[0m \u001b[32m━━━━━━━━━━━━━━━━━━━━\u001b[0m\u001b[37m\u001b[0m \u001b[1m143s\u001b[0m 339ms/step - accuracy: 0.9965 - loss: 0.0117 - val_accuracy: 1.0000 - val_loss: 1.4050e-05\n",
            "Epoch 7/10\n",
            "\u001b[1m270/270\u001b[0m \u001b[32m━━━━━━━━━━━━━━━━━━━━\u001b[0m\u001b[37m\u001b[0m \u001b[1m142s\u001b[0m 341ms/step - accuracy: 0.9958 - loss: 0.0112 - val_accuracy: 1.0000 - val_loss: 4.5655e-06\n",
            "Epoch 8/10\n",
            "\u001b[1m270/270\u001b[0m \u001b[32m━━━━━━━━━━━━━━━━━━━━\u001b[0m\u001b[37m\u001b[0m \u001b[1m140s\u001b[0m 336ms/step - accuracy: 0.9985 - loss: 0.0055 - val_accuracy: 0.9995 - val_loss: 3.7967e-04\n",
            "Epoch 9/10\n",
            "\u001b[1m270/270\u001b[0m \u001b[32m━━━━━━━━━━━━━━━━━━━━\u001b[0m\u001b[37m\u001b[0m \u001b[1m90s\u001b[0m 334ms/step - accuracy: 0.9992 - loss: 0.0031 - val_accuracy: 1.0000 - val_loss: 1.0959e-06\n",
            "Epoch 10/10\n",
            "\u001b[1m270/270\u001b[0m \u001b[32m━━━━━━━━━━━━━━━━━━━━\u001b[0m\u001b[37m\u001b[0m \u001b[1m90s\u001b[0m 334ms/step - accuracy: 0.9980 - loss: 0.0039 - val_accuracy: 1.0000 - val_loss: 1.8042e-05\n"
          ]
        }
      ],
      "source": [
        "history = model.fit(\n",
        "    train_generator,\n",
        "    epochs=10,\n",
        "    validation_data=validation_generator,\n",
        "    callbacks=callbacks\n",
        ")"
      ]
    },
    {
      "cell_type": "markdown",
      "metadata": {
        "id": "eS1vor1I3VBW"
      },
      "source": [
        "## Plot Accucary dan Loss"
      ]
    },
    {
      "cell_type": "markdown",
      "source": [
        "Kode ini digunakan untuk memvisualisasikan perubahan akurasi dan loss model selama pelatihan, membantu dalam analisis kinerja model."
      ],
      "metadata": {
        "id": "-50jb5xf8F1_"
      }
    },
    {
      "cell_type": "code",
      "execution_count": 9,
      "metadata": {
        "colab": {
          "base_uri": "https://localhost:8080/",
          "height": 927
        },
        "id": "24TX715n3Trs",
        "outputId": "67d13e3a-48ff-4046-95b1-e742952717ed"
      },
      "outputs": [
        {
          "output_type": "display_data",
          "data": {
            "text/plain": [
              "<Figure size 640x480 with 1 Axes>"
            ],
            "image/png": "[encoded data removed]"
          },
          "metadata": {}
        },
        {
          "output_type": "display_data",
          "data": {
            "text/plain": [
              "<Figure size 640x480 with 1 Axes>"
            ],
            "image/png": "[encoded data removed]"
          },
          "metadata": {}
        }
      ],
      "source": [
        "# Plot Akurasi\n",
        "plt.plot(history.history['accuracy'], label='Training Accuracy')\n",
        "plt.plot(history.history['val_accuracy'], label='Validation Accuracy')\n",
        "plt.title('Model Accuracy')\n",
        "plt.xlabel('Epoch')\n",
        "plt.ylabel('Accuracy')\n",
        "plt.legend()\n",
        "plt.show()\n",
        "\n",
        "# Plot Loss\n",
        "plt.plot(history.history['loss'], label='Training Loss')\n",
        "plt.plot(history.history['val_loss'], label='Validation Loss')\n",
        "plt.title('Model Loss')\n",
        "plt.xlabel('Epoch')\n",
        "plt.ylabel('Loss')\n",
        "plt.legend()\n",
        "plt.show()"
      ]
    },
    {
      "cell_type": "markdown",
      "metadata": {
        "id": "8YVWpOqATmGS"
      },
      "source": [
        "# SavedModel"
      ]
    },
    {
      "cell_type": "markdown",
      "source": [
        "Kode ini untuk menyimpan model kedalam direktori yang ditentukan, sehingga dapat diakses dan digunakan.\n",
        "1. `tf.saved_model.save(model, 'saved_model')`\n",
        "- Menyimpan model yang telah dilatih ke dalam format SavedModel. Format ini memungkikan model untuk dimuat kembali nanti dan digunakan untuk inferensi atau melanjutkan pelatihan."
      ],
      "metadata": {
        "id": "o4BFp7xK8Ggo"
      }
    },
    {
      "cell_type": "code",
      "execution_count": 10,
      "metadata": {
        "id": "jAXfiysiTym6"
      },
      "outputs": [],
      "source": [
        "import tensorflow as tf\n",
        "\n",
        "tf.saved_model.save(model, 'saved_model')"
      ]
    },
    {
      "cell_type": "markdown",
      "metadata": {
        "id": "Ry2Eqe49TkI6"
      },
      "source": [
        "# TF-Lite"
      ]
    },
    {
      "cell_type": "markdown",
      "source": [
        "Kode ini membuat model Keras dan mengonversinya ke format TFLite untuk penggunaan yang lebih efisien pada perangkat ringan.\n",
        "1. `model = tf.keras.models.load_model('hand_gesture_model.h5')`\n",
        "- Memuat model yang telah disimpan sebelumnya dari file hand_gesture_model.h5. model ini sekarang siap digunakan untuk inferensi atau melanjutkan pelatihan.\n",
        "2. `converter = tf.lite.TFLiteConverter.from_keras_model(model)`\n",
        "`tflite_model = converter.convert()`\n",
        "- `tf.lite.TFLiteConverter.from_keras_model(model)`, Membuat converter untuk mengubah model Keras ke format TensorFlow Lite (TFLite),\n",
        "- `tflite_model = converter.convert()`, Mengonversi model Keras ke format TFlite, menghasilkan file model yang lebih ringat dan efisien."
      ],
      "metadata": {
        "id": "PXMjkH9G8G6_"
      }
    },
    {
      "cell_type": "code",
      "execution_count": 15,
      "metadata": {
        "colab": {
          "base_uri": "https://localhost:8080/"
        },
        "collapsed": true,
        "id": "DrISNxiZTiYs",
        "outputId": "b6072b8f-6321-4089-eebb-f9aa010efbeb"
      },
      "outputs": [
        {
          "output_type": "stream",
          "name": "stderr",
          "text": [
            "WARNING:absl:You are saving your model as an HDF5 file via `model.save()` or `keras.saving.save_model(model)`. This file format is considered legacy. We recommend using instead the native Keras format, e.g. `model.save('my_model.keras')` or `keras.saving.save_model(model, 'my_model.keras')`. \n",
            "WARNING:absl:Compiled the loaded model, but the compiled metrics have yet to be built. `model.compile_metrics` will be empty until you train or evaluate the model.\n"
          ]
        },
        {
          "output_type": "stream",
          "name": "stdout",
          "text": [
            "Saved artifact at '/tmp/tmpg2u2i8g5'. The following endpoints are available:\n",
            "\n",
            "* Endpoint 'serve'\n",
            "  args_0 (POSITIONAL_ONLY): TensorSpec(shape=(None, 70, 90, 3), dtype=tf.float32, name='input_layer')\n",
            "Output Type:\n",
            "  TensorSpec(shape=(None, 7), dtype=tf.float32, name=None)\n",
            "Captures:\n",
            "  136533388016304: TensorSpec(shape=(), dtype=tf.resource, name=None)\n",
            "  136533132462560: TensorSpec(shape=(), dtype=tf.resource, name=None)\n",
            "  136533132472944: TensorSpec(shape=(), dtype=tf.resource, name=None)\n",
            "  136533132473120: TensorSpec(shape=(), dtype=tf.resource, name=None)\n",
            "  136533133483472: TensorSpec(shape=(), dtype=tf.resource, name=None)\n",
            "  136533133485760: TensorSpec(shape=(), dtype=tf.resource, name=None)\n",
            "  136533133410544: TensorSpec(shape=(), dtype=tf.resource, name=None)\n",
            "  136533133419872: TensorSpec(shape=(), dtype=tf.resource, name=None)\n",
            "  136533133487520: TensorSpec(shape=(), dtype=tf.resource, name=None)\n",
            "  136533133086560: TensorSpec(shape=(), dtype=tf.resource, name=None)\n"
          ]
        }
      ],
      "source": [
        "import tensorflow as tf\n",
        "\n",
        "model.save('hand_gesture_model.h5')\n",
        "model = tf.keras.models.load_model('hand_gesture_model.h5')\n",
        "\n",
        "\n",
        "converter = tf.lite.TFLiteConverter.from_keras_model(model)\n",
        "tflite_model = converter.convert()\n",
        "\n",
        "\n",
        "with open('hand_gesture_model.tflite', 'wb') as f:\n",
        "    f.write(tflite_model)\n",
        "\n",
        "with open('label.txt', 'w') as f:\n",
        "    labels = train_generator.class_indices\n",
        "    for label in labels:\n",
        "        f.write(f'{label}\\n')"
      ]
    },
    {
      "cell_type": "markdown",
      "metadata": {
        "id": "o8r1n7_JTgmt"
      },
      "source": [
        "# Format TFJS"
      ]
    },
    {
      "cell_type": "markdown",
      "source": [
        "Kode ini memungkikan model keras untuk digunakan dalam aplikasi berbasis web dengan mengonversinya keformat yang sesuai untuk TensorFlow.js.\n",
        "\n",
        "1. `tfjs.converters.save_keras_model(model, 'hand_gesture_tfjs_model')`\n",
        "- Mengonversi model keras yang telah dilatih dan menyimpannya dalam format yang dapat digunakan oleh TensorFlow.JS."
      ],
      "metadata": {
        "id": "a0on6lnm8HhX"
      }
    },
    {
      "cell_type": "code",
      "execution_count": 13,
      "metadata": {
        "colab": {
          "base_uri": "https://localhost:8080/"
        },
        "collapsed": true,
        "id": "4tl2IUhhSQ_h",
        "outputId": "c7c88060-3375-40d8-f237-88f6c476b4e6"
      },
      "outputs": [
        {
          "output_type": "stream",
          "name": "stdout",
          "text": [
            "Collecting tensorflowjs\n",
            "  Downloading tensorflowjs-4.21.0-py3-none-any.whl.metadata (3.2 kB)\n",
            "Requirement already satisfied: flax>=0.7.2 in /usr/local/lib/python3.10/dist-packages (from tensorflowjs) (0.8.5)\n",
            "Requirement already satisfied: importlib_resources>=5.9.0 in /usr/local/lib/python3.10/dist-packages (from tensorflowjs) (6.4.5)\n",
            "Requirement already satisfied: jax>=0.4.13 in /usr/local/lib/python3.10/dist-packages (from tensorflowjs) (0.4.33)\n",
            "Requirement already satisfied: jaxlib>=0.4.13 in /usr/local/lib/python3.10/dist-packages (from tensorflowjs) (0.4.33)\n",
            "Requirement already satisfied: tensorflow<3,>=2.13.0 in /usr/local/lib/python3.10/dist-packages (from tensorflowjs) (2.17.0)\n",
            "Requirement already satisfied: tf-keras>=2.13.0 in /usr/local/lib/python3.10/dist-packages (from tensorflowjs) (2.17.0)\n",
            "Collecting tensorflow-decision-forests>=1.5.0 (from tensorflowjs)\n",
            "  Downloading tensorflow_decision_forests-1.10.0-cp310-cp310-manylinux_2_17_x86_64.manylinux2014_x86_64.whl.metadata (6.0 kB)\n",
            "Requirement already satisfied: six<2,>=1.16.0 in /usr/local/lib/python3.10/dist-packages (from tensorflowjs) (1.16.0)\n",
            "Requirement already satisfied: tensorflow-hub>=0.16.1 in /usr/local/lib/python3.10/dist-packages (from tensorflowjs) (0.16.1)\n",
            "Collecting packaging~=23.1 (from tensorflowjs)\n",
            "  Downloading packaging-23.2-py3-none-any.whl.metadata (3.2 kB)\n",
            "Requirement already satisfied: numpy>=1.22 in /usr/local/lib/python3.10/dist-packages (from flax>=0.7.2->tensorflowjs) (1.26.4)\n",
            "Requirement already satisfied: msgpack in /usr/local/lib/python3.10/dist-packages (from flax>=0.7.2->tensorflowjs) (1.0.8)\n",
            "Requirement already satisfied: optax in /usr/local/lib/python3.10/dist-packages (from flax>=0.7.2->tensorflowjs) (0.2.3)\n",
            "Requirement already satisfied: orbax-checkpoint in /usr/local/lib/python3.10/dist-packages (from flax>=0.7.2->tensorflowjs) (0.6.4)\n",
            "Requirement already satisfied: tensorstore in /usr/local/lib/python3.10/dist-packages (from flax>=0.7.2->tensorflowjs) (0.1.66)\n",
            "Requirement already satisfied: rich>=11.1 in /usr/local/lib/python3.10/dist-packages (from flax>=0.7.2->tensorflowjs) (13.9.1)\n",
            "Requirement already satisfied: typing-extensions>=4.2 in /usr/local/lib/python3.10/dist-packages (from flax>=0.7.2->tensorflowjs) (4.12.2)\n",
            "Requirement already satisfied: PyYAML>=5.4.1 in /usr/local/lib/python3.10/dist-packages (from flax>=0.7.2->tensorflowjs) (6.0.2)\n",
            "Requirement already satisfied: ml-dtypes>=0.2.0 in /usr/local/lib/python3.10/dist-packages (from jax>=0.4.13->tensorflowjs) (0.4.1)\n",
            "Requirement already satisfied: opt-einsum in /usr/local/lib/python3.10/dist-packages (from jax>=0.4.13->tensorflowjs) (3.4.0)\n",
            "Requirement already satisfied: scipy>=1.10 in /usr/local/lib/python3.10/dist-packages (from jax>=0.4.13->tensorflowjs) (1.13.1)\n",
            "Requirement already satisfied: absl-py>=1.0.0 in /usr/local/lib/python3.10/dist-packages (from tensorflow<3,>=2.13.0->tensorflowjs) (1.4.0)\n",
            "Requirement already satisfied: astunparse>=1.6.0 in /usr/local/lib/python3.10/dist-packages (from tensorflow<3,>=2.13.0->tensorflowjs) (1.6.3)\n",
            "Requirement already satisfied: flatbuffers>=24.3.25 in /usr/local/lib/python3.10/dist-packages (from tensorflow<3,>=2.13.0->tensorflowjs) (24.3.25)\n",
            "Requirement already satisfied: gast!=0.5.0,!=0.5.1,!=0.5.2,>=0.2.1 in /usr/local/lib/python3.10/dist-packages (from tensorflow<3,>=2.13.0->tensorflowjs) (0.6.0)\n",
            "Requirement already satisfied: google-pasta>=0.1.1 in /usr/local/lib/python3.10/dist-packages (from tensorflow<3,>=2.13.0->tensorflowjs) (0.2.0)\n",
            "Requirement already satisfied: h5py>=3.10.0 in /usr/local/lib/python3.10/dist-packages (from tensorflow<3,>=2.13.0->tensorflowjs) (3.11.0)\n",
            "Requirement already satisfied: libclang>=13.0.0 in /usr/local/lib/python3.10/dist-packages (from tensorflow<3,>=2.13.0->tensorflowjs) (18.1.1)\n",
            "Requirement already satisfied: protobuf!=4.21.0,!=4.21.1,!=4.21.2,!=4.21.3,!=4.21.4,!=4.21.5,<5.0.0dev,>=3.20.3 in /usr/local/lib/python3.10/dist-packages (from tensorflow<3,>=2.13.0->tensorflowjs) (3.20.3)\n",
            "Requirement already satisfied: requests<3,>=2.21.0 in /usr/local/lib/python3.10/dist-packages (from tensorflow<3,>=2.13.0->tensorflowjs) (2.32.3)\n",
            "Requirement already satisfied: setuptools in /usr/local/lib/python3.10/dist-packages (from tensorflow<3,>=2.13.0->tensorflowjs) (71.0.4)\n",
            "Requirement already satisfied: termcolor>=1.1.0 in /usr/local/lib/python3.10/dist-packages (from tensorflow<3,>=2.13.0->tensorflowjs) (2.4.0)\n",
            "Requirement already satisfied: wrapt>=1.11.0 in /usr/local/lib/python3.10/dist-packages (from tensorflow<3,>=2.13.0->tensorflowjs) (1.16.0)\n",
            "Requirement already satisfied: grpcio<2.0,>=1.24.3 in /usr/local/lib/python3.10/dist-packages (from tensorflow<3,>=2.13.0->tensorflowjs) (1.64.1)\n",
            "Requirement already satisfied: tensorboard<2.18,>=2.17 in /usr/local/lib/python3.10/dist-packages (from tensorflow<3,>=2.13.0->tensorflowjs) (2.17.0)\n",
            "Requirement already satisfied: keras>=3.2.0 in /usr/local/lib/python3.10/dist-packages (from tensorflow<3,>=2.13.0->tensorflowjs) (3.4.1)\n",
            "Requirement already satisfied: tensorflow-io-gcs-filesystem>=0.23.1 in /usr/local/lib/python3.10/dist-packages (from tensorflow<3,>=2.13.0->tensorflowjs) (0.37.1)\n",
            "Requirement already satisfied: pandas in /usr/local/lib/python3.10/dist-packages (from tensorflow-decision-forests>=1.5.0->tensorflowjs) (2.2.2)\n",
            "Requirement already satisfied: wheel in /usr/local/lib/python3.10/dist-packages (from tensorflow-decision-forests>=1.5.0->tensorflowjs) (0.44.0)\n",
            "Collecting wurlitzer (from tensorflow-decision-forests>=1.5.0->tensorflowjs)\n",
            "  Downloading wurlitzer-3.1.1-py3-none-any.whl.metadata (2.5 kB)\n",
            "Collecting ydf (from tensorflow-decision-forests>=1.5.0->tensorflowjs)\n",
            "  Downloading ydf-0.8.0-cp310-cp310-manylinux_2_17_x86_64.manylinux2014_x86_64.whl.metadata (3.2 kB)\n",
            "Requirement already satisfied: namex in /usr/local/lib/python3.10/dist-packages (from keras>=3.2.0->tensorflow<3,>=2.13.0->tensorflowjs) (0.0.8)\n",
            "Requirement already satisfied: optree in /usr/local/lib/python3.10/dist-packages (from keras>=3.2.0->tensorflow<3,>=2.13.0->tensorflowjs) (0.13.0)\n",
            "Requirement already satisfied: charset-normalizer<4,>=2 in /usr/local/lib/python3.10/dist-packages (from requests<3,>=2.21.0->tensorflow<3,>=2.13.0->tensorflowjs) (3.3.2)\n",
            "Requirement already satisfied: idna<4,>=2.5 in /usr/local/lib/python3.10/dist-packages (from requests<3,>=2.21.0->tensorflow<3,>=2.13.0->tensorflowjs) (3.10)\n",
            "Requirement already satisfied: urllib3<3,>=1.21.1 in /usr/local/lib/python3.10/dist-packages (from requests<3,>=2.21.0->tensorflow<3,>=2.13.0->tensorflowjs) (2.2.3)\n",
            "Requirement already satisfied: certifi>=2017.4.17 in /usr/local/lib/python3.10/dist-packages (from requests<3,>=2.21.0->tensorflow<3,>=2.13.0->tensorflowjs) (2024.8.30)\n",
            "Requirement already satisfied: markdown-it-py>=2.2.0 in /usr/local/lib/python3.10/dist-packages (from rich>=11.1->flax>=0.7.2->tensorflowjs) (3.0.0)\n",
            "Requirement already satisfied: pygments<3.0.0,>=2.13.0 in /usr/local/lib/python3.10/dist-packages (from rich>=11.1->flax>=0.7.2->tensorflowjs) (2.18.0)\n",
            "Requirement already satisfied: markdown>=2.6.8 in /usr/local/lib/python3.10/dist-packages (from tensorboard<2.18,>=2.17->tensorflow<3,>=2.13.0->tensorflowjs) (3.7)\n",
            "Requirement already satisfied: tensorboard-data-server<0.8.0,>=0.7.0 in /usr/local/lib/python3.10/dist-packages (from tensorboard<2.18,>=2.17->tensorflow<3,>=2.13.0->tensorflowjs) (0.7.2)\n",
            "Requirement already satisfied: werkzeug>=1.0.1 in /usr/local/lib/python3.10/dist-packages (from tensorboard<2.18,>=2.17->tensorflow<3,>=2.13.0->tensorflowjs) (3.0.4)\n",
            "Requirement already satisfied: chex>=0.1.86 in /usr/local/lib/python3.10/dist-packages (from optax->flax>=0.7.2->tensorflowjs) (0.1.87)\n",
            "Requirement already satisfied: etils[epy] in /usr/local/lib/python3.10/dist-packages (from optax->flax>=0.7.2->tensorflowjs) (1.9.4)\n",
            "Requirement already satisfied: nest_asyncio in /usr/local/lib/python3.10/dist-packages (from orbax-checkpoint->flax>=0.7.2->tensorflowjs) (1.6.0)\n",
            "Requirement already satisfied: humanize in /usr/local/lib/python3.10/dist-packages (from orbax-checkpoint->flax>=0.7.2->tensorflowjs) (4.10.0)\n",
            "Requirement already satisfied: python-dateutil>=2.8.2 in /usr/local/lib/python3.10/dist-packages (from pandas->tensorflow-decision-forests>=1.5.0->tensorflowjs) (2.8.2)\n",
            "Requirement already satisfied: pytz>=2020.1 in /usr/local/lib/python3.10/dist-packages (from pandas->tensorflow-decision-forests>=1.5.0->tensorflowjs) (2024.2)\n",
            "Requirement already satisfied: tzdata>=2022.7 in /usr/local/lib/python3.10/dist-packages (from pandas->tensorflow-decision-forests>=1.5.0->tensorflowjs) (2024.2)\n",
            "Requirement already satisfied: toolz>=0.9.0 in /usr/local/lib/python3.10/dist-packages (from chex>=0.1.86->optax->flax>=0.7.2->tensorflowjs) (0.12.1)\n",
            "Requirement already satisfied: mdurl~=0.1 in /usr/local/lib/python3.10/dist-packages (from markdown-it-py>=2.2.0->rich>=11.1->flax>=0.7.2->tensorflowjs) (0.1.2)\n",
            "Requirement already satisfied: MarkupSafe>=2.1.1 in /usr/local/lib/python3.10/dist-packages (from werkzeug>=1.0.1->tensorboard<2.18,>=2.17->tensorflow<3,>=2.13.0->tensorflowjs) (2.1.5)\n",
            "Requirement already satisfied: fsspec in /usr/local/lib/python3.10/dist-packages (from etils[epath,epy]->orbax-checkpoint->flax>=0.7.2->tensorflowjs) (2024.6.1)\n",
            "Requirement already satisfied: zipp in /usr/local/lib/python3.10/dist-packages (from etils[epath,epy]->orbax-checkpoint->flax>=0.7.2->tensorflowjs) (3.20.2)\n",
            "Downloading tensorflowjs-4.21.0-py3-none-any.whl (89 kB)\n",
            "\u001b[2K   \u001b[90m━━━━━━━━━━━━━━━━━━━━━━━━━━━━━━━━━━━━━━━━\u001b[0m \u001b[32m89.1/89.1 kB\u001b[0m \u001b[31m7.8 MB/s\u001b[0m eta \u001b[36m0:00:00\u001b[0m\n",
            "\u001b[?25hDownloading packaging-23.2-py3-none-any.whl (53 kB)\n",
            "\u001b[2K   \u001b[90m━━━━━━━━━━━━━━━━━━━━━━━━━━━━━━━━━━━━━━━━\u001b[0m \u001b[32m53.0/53.0 kB\u001b[0m \u001b[31m4.6 MB/s\u001b[0m eta \u001b[36m0:00:00\u001b[0m\n",
            "\u001b[?25hDownloading tensorflow_decision_forests-1.10.0-cp310-cp310-manylinux_2_17_x86_64.manylinux2014_x86_64.whl (15.5 MB)\n",
            "\u001b[2K   \u001b[90m━━━━━━━━━━━━━━━━━━━━━━━━━━━━━━━━━━━━━━━━\u001b[0m \u001b[32m15.5/15.5 MB\u001b[0m \u001b[31m84.0 MB/s\u001b[0m eta \u001b[36m0:00:00\u001b[0m\n",
            "\u001b[?25hDownloading wurlitzer-3.1.1-py3-none-any.whl (8.6 kB)\n",
            "Downloading ydf-0.8.0-cp310-cp310-manylinux_2_17_x86_64.manylinux2014_x86_64.whl (9.3 MB)\n",
            "\u001b[2K   \u001b[90m━━━━━━━━━━━━━━━━━━━━━━━━━━━━━━━━━━━━━━━━\u001b[0m \u001b[32m9.3/9.3 MB\u001b[0m \u001b[31m94.3 MB/s\u001b[0m eta \u001b[36m0:00:00\u001b[0m\n",
            "\u001b[?25hInstalling collected packages: ydf, wurlitzer, packaging, tensorflow-decision-forests, tensorflowjs\n",
            "  Attempting uninstall: packaging\n",
            "    Found existing installation: packaging 24.1\n",
            "    Uninstalling packaging-24.1:\n",
            "      Successfully uninstalled packaging-24.1\n",
            "Successfully installed packaging-23.2 tensorflow-decision-forests-1.10.0 tensorflowjs-4.21.0 wurlitzer-3.1.1 ydf-0.8.0\n"
          ]
        },
        {
          "output_type": "stream",
          "name": "stderr",
          "text": [
            "WARNING:absl:You are saving your model as an HDF5 file via `model.save()` or `keras.saving.save_model(model)`. This file format is considered legacy. We recommend using instead the native Keras format, e.g. `model.save('my_model.keras')` or `keras.saving.save_model(model, 'my_model.keras')`. \n"
          ]
        },
        {
          "output_type": "stream",
          "name": "stdout",
          "text": [
            "failed to lookup keras version from the file,\n",
            "    this is likely a weight only file\n"
          ]
        }
      ],
      "source": [
        "!pip install tensorflowjs\n",
        "import tensorflowjs as tfjs\n",
        "\n",
        "tfjs.converters.save_keras_model(model, 'hand_gesture_tfjs_model')"
      ]
    },
    {
      "cell_type": "markdown",
      "metadata": {
        "id": "ZJChWVLv3bYd"
      },
      "source": [
        "# Evaluasi Model"
      ]
    },
    {
      "cell_type": "markdown",
      "source": [
        "Kode ini digunakan untuk mengevaluasi akurasi model dataset validasi dan mencetak hasil akurasi.\n",
        "1. `model.evaluate(validation_generator, verbose=2)`\n",
        "- Menggunakan metode evaluate untuk mengukur kinerja model pada data validasi yang disediakan oleh validation_generator. fungsi ini mengembalikan dua nilai `test_loss` dan `test_acc`.\n",
        "- `verbose=2`, Menentukan tingkat detail output yang akan ditampilkan saat evaluasi, dalam hal ini menampilkan hasil evaluasi per epoch."
      ],
      "metadata": {
        "id": "YHPSsGnU8IAH"
      }
    },
    {
      "cell_type": "code",
      "execution_count": 14,
      "metadata": {
        "colab": {
          "base_uri": "https://localhost:8080/"
        },
        "id": "UzZ8ZIs_3alU",
        "outputId": "9579879c-fce4-4b9a-fc34-fee93937199a"
      },
      "outputs": [
        {
          "output_type": "stream",
          "name": "stdout",
          "text": [
            "68/68 - 12s - 177ms/step - accuracy: 1.0000 - loss: 1.0959e-06\n",
            "Test accuracy: 1.0\n"
          ]
        }
      ],
      "source": [
        "test_loss, test_acc = model.evaluate(validation_generator, verbose=2)\n",
        "print(f\"Test accuracy: {test_acc}\")"
      ]
    }
  ],
  "metadata": {
    "colab": {
      "provenance": [],
      "collapsed_sections": [
        "jYpsuK3e20G2",
        "gO-eb7bB28sl",
        "WaEpBrOn3KXM",
        "eS1vor1I3VBW",
        "8YVWpOqATmGS",
        "Ry2Eqe49TkI6",
        "o8r1n7_JTgmt",
        "ZJChWVLv3bYd"
      ],
      "authorship_tag": "ABX9TyODBq7bc6idsat4EpgHFh99",
      "include_colab_link": true
    },
    "kernelspec": {
      "display_name": "Python 3",
      "name": "python3"
    },
    "language_info": {
      "name": "python"
    }
  },
  "nbformat": 4,
  "nbformat_minor": 0
}