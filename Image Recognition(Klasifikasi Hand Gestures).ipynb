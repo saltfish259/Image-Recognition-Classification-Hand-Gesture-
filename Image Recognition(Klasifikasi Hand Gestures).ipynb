{
  "cells": [
    {
      "cell_type": "markdown",
      "metadata": {
        "id": "view-in-github",
        "colab_type": "text"
      },
      "source": [
        "<a href=\"https://colab.research.google.com/github/saltfish259/Image-Recognition-Classification-Hand-Gesture-/blob/main/Image%20Recognition(Klasifikasi%20Hand%20Gestures).ipynb\" target=\"_parent\"><img src=\"https://colab.research.google.com/assets/colab-badge.svg\" alt=\"Open In Colab\"/></a>"
      ]
    },
    {
      "cell_type": "markdown",
      "metadata": {
        "id": "H9wADwK78DCz"
      },
      "source": [
        "# Proyek Klasifikasi Gambar: [Hand Gestures Recognition]\n",
        "- **Email:** zulvikar.hatuwe730@gmail.com\n",
        "- **Dataset:** https://www.kaggle.com/datasets/sprakash08/hand-gestures-recognition?select=dataset\n"
      ]
    },
    {
      "cell_type": "markdown",
      "metadata": {
        "id": "jYpsuK3e20G2"
      },
      "source": [
        "## Import Libraries"
      ]
    },
    {
      "cell_type": "markdown",
      "source": [
        "**Tensorflow** : Framework open source yang digunakan untuk machine learning dan deep learning.\n",
        "\n",
        "**ImageDataGenerator** : Kelas dasar dari keras (bagian dari tensorflow) yang digunakan untuk preprocessing gambar.\n",
        "\n",
        "**Sequential** : Jenis model Keras yang memungkikan pembuatan neural network secara berurutan.\n",
        "\n",
        "**Layers** :  \n",
        "- **Conv2D**: Layer konvolusi digunakan untuk memproses gambar 2D.\n",
        "- **MaxPooling2D**: Layer pooling untuk mereduksi dimensi dari output Conv2D.\n",
        "- **Flatten**: Layer yang mengubah data output dari layer2d(matriks) menjadi satu dimensi.\n",
        "- **Dense**: dimana setiap neuron tehrubung dengan semua neuron di layers sebelumnya.\n",
        "- **Dropout**: teknik regularisasi yang secara acak menonaktifkan sejumlah euron selama pelatihan untuk mencegah overfitting.\n",
        "\n",
        "**Callback** : Callback memungkikan menjalankan fungsi seperti menghentikan pelatihan lebih awal ( early stopping ), menyimpan model terbaik, atau memantau peforma secara real time.\n",
        "\n",
        "**Matplotlib** : Library visual data."
      ],
      "metadata": {
        "id": "u8oL-0Ou8BUR"
      }
    },
    {
      "cell_type": "code",
      "execution_count": null,
      "metadata": {
        "id": "FHetwCrE0h_o"
      },
      "outputs": [],
      "source": [
        "import tensorflow as tf\n",
        "from tensorflow.keras.preprocessing.image import ImageDataGenerator\n",
        "from tensorflow.keras.models import Sequential\n",
        "from tensorflow.keras.layers import Conv2D, MaxPooling2D, Flatten, Dense, Dropout\n",
        "from tensorflow.keras.callbacks import Callback\n",
        "\n",
        "import matplotlib.pyplot as plt"
      ]
    },
    {
      "cell_type": "markdown",
      "metadata": {
        "id": "HRo_n8Ny24P8"
      },
      "source": [
        "## Unzip Dataset"
      ]
    },
    {
      "cell_type": "markdown",
      "source": [
        "1. `!pip install rarfile`\n",
        "- digunakan untuk menginstall **rarfile**, sebuah library python yang memungkikan membaca file arsip berformat `.rar`\n",
        "\n",
        "2. `!apt-get install unrar`\n",
        "- digunakan untuk menginstall `unrar` semuah program yang memungkian sistem oberasi untuk mengekstrak file arsip `.rar`\n",
        "\n"
      ],
      "metadata": {
        "id": "HaqdIOP78CI3"
      }
    },
    {
      "cell_type": "code",
      "execution_count": null,
      "metadata": {
        "colab": {
          "base_uri": "https://localhost:8080/"
        },
        "id": "D8N0rxFP4GEt",
        "outputId": "9ec566b6-5691-4726-b8ec-25c9faae5e8a"
      },
      "outputs": [
        {
          "name": "stdout",
          "output_type": "stream",
          "text": [
            "Collecting rarfile\n",
            "  Downloading rarfile-4.2-py3-none-any.whl.metadata (4.4 kB)\n",
            "Downloading rarfile-4.2-py3-none-any.whl (29 kB)\n",
            "Installing collected packages: rarfile\n",
            "Successfully installed rarfile-4.2\n",
            "Reading package lists... Done\n",
            "Building dependency tree... Done\n",
            "Reading state information... Done\n",
            "unrar is already the newest version (1:6.1.5-1).\n",
            "0 upgraded, 0 newly installed, 0 to remove and 49 not upgraded.\n"
          ]
        }
      ],
      "source": [
        "!pip install rarfile\n",
        "!apt-get install unrar"
      ]
    },
    {
      "cell_type": "markdown",
      "source": [
        "Kode ini berfungsi untuk membuka file `.rar`, kemudian mengekstrak isi folder yang ditentukan.\n",
        "1. `import rarfile `\n",
        "- Berfungsi Mengimpor libarry rarfile yang digunakan untuk bekerja dengan file arsip .rar di python.\n",
        "2. `with rarfile.RarFile('Hand Gesture.rar') as rar_ref: `\n",
        "- berfungsi untuk membuka file arsib bernama `Hand Gesture.rar` dan membuat objek `rar_ref` untuk mengakses isi dari file tersebut. `with` memastikan bahwa file ditutup secara otomatis setelah selesai di proses.\n",
        "3. `rar_ref.extractall('Hand_Gesture')`\n",
        "- Berfungsi untuk mengekstrak semua file yang ada di dalam arsip `Hand Gesture.rar` ke direktori `Hand_Gesture`."
      ],
      "metadata": {
        "id": "xxO2XHY28C1f"
      }
    },
    {
      "cell_type": "code",
      "execution_count": null,
      "metadata": {
        "id": "oiA7X5qg23SH"
      },
      "outputs": [],
      "source": [
        "import rarfile\n",
        "\n",
        "with rarfile.RarFile('Hand Gesture.rar') as rar_ref:\n",
        "    rar_ref.extractall('Hand_Gesture')"
      ]
    },
    {
      "cell_type": "markdown",
      "metadata": {
        "id": "gO-eb7bB28sl"
      },
      "source": [
        "## Load Data"
      ]
    },
    {
      "cell_type": "markdown",
      "source": [
        "Kode ini mempersiapkan data pelatihan dan validasi untuk model klasifikasi gambar.\n",
        "1. `train_datagen = ImageDataGenerator(rescale=1./255, validation_split=0.2) `\n",
        "- Membuat generator gambar dengan rescaling (normalisasi) pixel gambar ke rentan 0-1 dan membagi dataset menjadi 80% untuk pelatihan dan 20% untuk validasi.\n",
        "\n",
        "2. `train_generator = train_datagen.flow_from_directory(...)`\n",
        "- Megambil gambar dari `'Hand_Gesture/Hand Gesture/'`, mengubah ukuran menjadi 70 x 90 pixel, dan mengelompokkan data menjadi batch dengan ukuran 32.\n",
        "- Data ini digunakan untuk pelatihan subset='training' .\n",
        "\n",
        "3. `validation_generator = train_datagen.flow_from_directory(...) `\n",
        "- Sama seperti train_generator, tetapi subset ini digunakan untuk validasi `subset='validation'`."
      ],
      "metadata": {
        "id": "q7Jy7iPv8Df_"
      }
    },
    {
      "cell_type": "code",
      "execution_count": null,
      "metadata": {
        "colab": {
          "base_uri": "https://localhost:8080/"
        },
        "id": "NbUE9OoS28LO",
        "outputId": "798f6b73-4e81-440f-d298-83d1615a9792"
      },
      "outputs": [
        {
          "name": "stdout",
          "output_type": "stream",
          "text": [
            "Found 8614 images belonging to 7 classes.\n",
            "Found 2149 images belonging to 7 classes.\n"
          ]
        }
      ],
      "source": [
        "train_datagen = ImageDataGenerator(rescale=1./255, validation_split=0.2)\n",
        "\n",
        "train_generator = train_datagen.flow_from_directory(\n",
        "    'Hand_Gesture/Hand Gesture/',\n",
        "    target_size=(70, 90),\n",
        "    batch_size=32,\n",
        "    class_mode='categorical',\n",
        "    subset='training'\n",
        ")\n",
        "\n",
        "validation_generator = train_datagen.flow_from_directory(\n",
        "    'Hand_Gesture/Hand Gesture/',\n",
        "    target_size=(70, 90),\n",
        "    batch_size=32,\n",
        "    class_mode='categorical',\n",
        "    subset='validation'\n",
        ")"
      ]
    },
    {
      "cell_type": "markdown",
      "metadata": {
        "id": "WaEpBrOn3KXM"
      },
      "source": [
        "## CNN Model"
      ]
    },
    {
      "cell_type": "markdown",
      "source": [
        "Ini adalah model CNN yang digunakan untuk menglasifikasikan gambar menjadi 7 kelas.\n",
        "1. `model = Sequential([...])`\n",
        "- Membuat instance dari model Sequential, yang memungkikan penambahan layer secara berurutan.\n",
        "2. ` Conv2D(32, (3, 3), activation='relu', input_shape=(70, 90, 3))`\n",
        "- Menambahkan layer konvolusi 2D pertama dengan 32 filter berukuran 3x3. Fungsi aktivasi yang dapat digunakan adalah **ReLU (Rectified Liniear Unit)**. `input_shape=(70, 90, 3)` menunjukkan bahwa input adalah gambar berukuran 70x90 dengan 3 saluran warna (RGB).\n",
        "3. `MaxPooling2D(pool_size=(2, 2))`\n",
        "- Menambahkan layer max pooling yang mereduksi dimensi ouput dari layer sebelumnya dengan mengambil nilai maksimum dari setiap blox 2x2 pixel, membantu mengurangi ukuran data dan meningkatkan komputasi.\n",
        "4. `Conv2D(64, (3, 3), activation='relu')`\n",
        "- Menambahkan konvolusi layer kedua dengan 64 filter berukuran 3x3 dan fungsi aktivasi ReLU. Layer ini akan menangkap fitur yang lebih kompleks dari data gambar.\n",
        "5. `Conv2D(128, (3, 3), activation='relu')`\n",
        "- Menambahkan konvolusi layer ketiga dengan 128 filter berukuran 3x3 dan fungsi aktivasi ReLU. untuk mendeteksi fitur yang lebih mendetail.\n",
        "6. `Flatten()`\n",
        "- Mengubah output dari layer 2D (matriks) menjadi satu dimensi (vektor) agar dapat diproses oleh layer dense berikutnya.\n",
        "7. `Dense(128, activation='relu')`\n",
        "- Menambahkan fully connected layer (layer dense) dengan 128 neuron dan fungsi aktivasi ReLU. untuk memproses fitur yang dihasilkan dari layer konvolusi sebelumnya.\n",
        "8. `Dropout(0.5)`\n",
        "- Menambahkan layer dropout yang secara acak menonaktifkan 50% neuron selama pelatihan untuk mencegah overfitting.\n",
        "9. `Dense(7, activation='softmax')`\n",
        "- Menambahkan layer output dengan 7 neuron (sama dengan jumlah kelas) dan fungsi softmax, yang akan menghasilkan probabilitas untuk setiap kelas.\n",
        "10. `model.compile(optimizer='adam', loss='categorical_crossentropy', metrics=['accuracy'])`\n",
        "- `model.compile(...)`, Mengompilasi model.\n",
        "- `optimizer='adam'`, Menggunakan algoritma Adam sebagai optimizer, yang efisien dalam pembaruan bobot.\n",
        "- `loss='categorical_crossentropy'`, Menggunakan fungsi loss categorical crossentropy untuk klasifikasi multi-kelas.\n",
        "- `metrics=['accuracy']`, menambahkan metrik akurasi untuk mengevaluasi kinerja model selama pelatihan dan pengujian"
      ],
      "metadata": {
        "id": "6NwjsGhK8EJH"
      }
    },
    {
      "cell_type": "code",
      "execution_count": null,
      "metadata": {
        "colab": {
          "base_uri": "https://localhost:8080/"
        },
        "id": "zZR9nyMX3Lt2",
        "outputId": "4a852227-3d0e-40a8-86f2-632201a53f6f"
      },
      "outputs": [
        {
          "name": "stderr",
          "output_type": "stream",
          "text": [
            "/usr/local/lib/python3.10/dist-packages/keras/src/layers/convolutional/base_conv.py:107: UserWarning: Do not pass an `input_shape`/`input_dim` argument to a layer. When using Sequential models, prefer using an `Input(shape)` object as the first layer in the model instead.\n",
            "  super().__init__(activity_regularizer=activity_regularizer, **kwargs)\n"
          ]
        }
      ],
      "source": [
        "model = Sequential([  # Model Sequential\n",
        "    Conv2D(32, (3, 3), activation='relu', input_shape=(70, 90, 3)),  # Conv2D layer\n",
        "    MaxPooling2D(pool_size=(2, 2)),  # Pooling Layer (MaxPooling2D)\n",
        "\n",
        "    Conv2D(64, (3, 3), activation='relu'),  # Conv2D layer\n",
        "    MaxPooling2D(pool_size=(2, 2)),  # Pooling Layer (MaxPooling2D)\n",
        "\n",
        "    Conv2D(128, (3, 3), activation='relu'),  # Conv2D layer\n",
        "    MaxPooling2D(pool_size=(2, 2)),  # Pooling Layer (MaxPooling2D)\n",
        "\n",
        "    Flatten(),\n",
        "    Dense(128, activation='relu'),\n",
        "    Dropout(0.5),\n",
        "    Dense(7, activation='softmax')\n",
        "])\n",
        "\n",
        "model.compile(optimizer='adam', loss='categorical_crossentropy', metrics=['accuracy'])\n"
      ]
    },
    {
      "cell_type": "markdown",
      "metadata": {
        "id": "XK_TLneb_XsG"
      },
      "source": [
        "## Callbacks\n"
      ]
    },
    {
      "cell_type": "markdown",
      "source": [
        "Callback ini digunakan untuk mencegah overfitting dengan menghentikan pelatihan ketika model tidakmenunjukkan perbaikan pad aakurasi setelah sejumlah epoch tertentu.\n",
        "1. `early_stopping = tf.keras.callbacks.EarlyStopping`\n",
        "- Membuat instance dari callback EarlyStopping untuk menghentikan pelatihan model lebih awal jika metrik yang dipantau tidak menunjukkan perbaikan.\n",
        "2. `monitor='accuracy'`\n",
        "- Menentukan metrik yang akan dipantau. dalam hal ini, akurasi (accuracy) dari model akan dipantau selama pelatihan.\n",
        "3. `patience=2`\n",
        "- Menentukan jumlah epoch yang harus dilalui tanpa perbaikan pada metrik yang dipantau sebelum pelatihan dihentikan. Jika akurasi tidak meningkat selama 2 epoch berturut-turut, pelatihan akan dihentikan.\n",
        "4. `restore_best_weights=Tru`\n",
        "- Menyimpan bobot terbaik dari model yangdicapai selama pelatihan, sehingga jika pelatihandihentikan lebih awal, model akan kembali menggunakan bobot terbaik yang pernah didapat."
      ],
      "metadata": {
        "id": "kjun0bVv8E1X"
      }
    },
    {
      "cell_type": "code",
      "execution_count": null,
      "metadata": {
        "id": "bXqDYV_Y_WK9"
      },
      "outputs": [],
      "source": [
        "early_stopping = tf.keras.callbacks.EarlyStopping(\n",
        "    monitor='accuracy',\n",
        "    patience=2,\n",
        "    restore_best_weights=True\n",
        ")"
      ]
    },
    {
      "cell_type": "markdown",
      "source": [
        "1. `callbacks = [early_stopping]`\n",
        "- Membuat daftar callbacks yang berisi objek early_stopping yang telah didenfitikasikan sebelumnya. Daftar ini akan digunakan saat melatih model untuk menerapkan semua callback yang ada dalam data tersebut. Dalam konteks ini, saat pelatihan model, callback early_stopping akan digunakan untuk memantau akurasi dan mengehtnikan pelatihan jika tidak ada perbaikan."
      ],
      "metadata": {
        "id": "u6ZF_GJ4EE1e"
      }
    },
    {
      "cell_type": "code",
      "execution_count": null,
      "metadata": {
        "id": "npec_PXNJKQZ"
      },
      "outputs": [],
      "source": [
        "callbacks = [early_stopping]"
      ]
    },
    {
      "cell_type": "markdown",
      "metadata": {
        "id": "OWsGNM8x3QNV"
      },
      "source": [
        "## Train Model"
      ]
    },
    {
      "cell_type": "markdown",
      "source": [
        "Kode ini melatih model menggunakan data pelatihan dan validasi yang diberikan, selama 10 epoch, dengan menerapkan callback untuk mengoptimalkan proses pelatihan. Hasil dari pelatihan disimpan dalam variabel History untuk analisis.\n",
        "1. `history = model.fit`\n",
        "- Memanggil metode fit pada objek model untuk melatih model dengan data yang disediakan. hasil dari pelatihan akan disimpan dalam variabel history.\n",
        "2. `train_generator`\n",
        "- Menyediakan generator data pelatihan yang telah dibuat sebelumnya. ini berisi gambar dan label untuk proses pelatihan.\n",
        "3. `ochs=10`\n",
        "- Menentukan jumlah epoch (putaran penuh melalui seluruh dataset pelatihan) yang akandilakukan selama pelatihan. Dalam hal ini, pelatihan akan dilakukan selama 10 epoch.\n",
        "4. `validation_data=validation_generator`\n",
        "- Menyediakan generator data validasi yang digunakan untuk mengevaluasi model setelah setiap epoch. ini membantu dalam memantau kinerja model pada data yang tidak terlihat selama pelatihan.\n",
        "5. `callbacks=callbacks`\n",
        "- Menyediakan daftar callback yang akan diterapkan selama pelatihan. Di sini, early_stopping akan dipantau untuk menghentikan pelatihan lebih awal jika akurasi tidak meningkat."
      ],
      "metadata": {
        "id": "Vru3YMRq8Fb_"
      }
    },
    {
      "cell_type": "code",
      "execution_count": null,
      "metadata": {
        "colab": {
          "background_save": true,
          "base_uri": "https://localhost:8080/"
        },
        "id": "BuZYx4Y53SBk",
        "outputId": "f5304418-70b4-4723-a29f-110aa021203e"
      },
      "outputs": [
        {
          "name": "stdout",
          "output_type": "stream",
          "text": [
            "Epoch 1/10\n"
          ]
        },
        {
          "name": "stderr",
          "output_type": "stream",
          "text": [
            "/usr/local/lib/python3.10/dist-packages/keras/src/trainers/data_adapters/py_dataset_adapter.py:121: UserWarning: Your `PyDataset` class should call `super().__init__(**kwargs)` in its constructor. `**kwargs` can include `workers`, `use_multiprocessing`, `max_queue_size`. Do not pass these arguments to `fit()`, as they will be ignored.\n",
            "  self._warn_if_super_not_called()\n"
          ]
        },
        {
          "name": "stdout",
          "output_type": "stream",
          "text": [
            "\u001b[1m270/270\u001b[0m \u001b[32m━━━━━━━━━━━━━━━━━━━━\u001b[0m\u001b[37m\u001b[0m \u001b[1m124s\u001b[0m 445ms/step - accuracy: 0.8295 - loss: 0.5144 - val_accuracy: 0.9991 - val_loss: 0.0031\n",
            "Epoch 2/10\n",
            "\u001b[1m270/270\u001b[0m \u001b[32m━━━━━━━━━━━━━━━━━━━━\u001b[0m\u001b[37m\u001b[0m \u001b[1m102s\u001b[0m 378ms/step - accuracy: 0.9895 - loss: 0.0289 - val_accuracy: 1.0000 - val_loss: 1.4073e-04\n",
            "Epoch 3/10\n",
            "\u001b[1m270/270\u001b[0m \u001b[32m━━━━━━━━━━━━━━━━━━━━\u001b[0m\u001b[37m\u001b[0m \u001b[1m139s\u001b[0m 369ms/step - accuracy: 0.9956 - loss: 0.0145 - val_accuracy: 1.0000 - val_loss: 7.2079e-06\n",
            "Epoch 4/10\n",
            "\u001b[1m270/270\u001b[0m \u001b[32m━━━━━━━━━━━━━━━━━━━━\u001b[0m\u001b[37m\u001b[0m \u001b[1m143s\u001b[0m 372ms/step - accuracy: 0.9949 - loss: 0.0129 - val_accuracy: 1.0000 - val_loss: 1.1292e-05\n",
            "Epoch 5/10\n",
            "\u001b[1m270/270\u001b[0m \u001b[32m━━━━━━━━━━━━━━━━━━━━\u001b[0m\u001b[37m\u001b[0m \u001b[1m102s\u001b[0m 376ms/step - accuracy: 0.9950 - loss: 0.0177 - val_accuracy: 0.9995 - val_loss: 0.0011\n"
          ]
        }
      ],
      "source": [
        "history = model.fit(\n",
        "    train_generator,\n",
        "    epochs=10,\n",
        "    validation_data=validation_generator,\n",
        "    callbacks=callbacks\n",
        ")"
      ]
    },
    {
      "cell_type": "markdown",
      "metadata": {
        "id": "eS1vor1I3VBW"
      },
      "source": [
        "## Plot Accucary dan Loss"
      ]
    },
    {
      "cell_type": "markdown",
      "source": [
        "Kode ini digunakan untuk memvisualisasikan perubahan akurasi dan loss model selama pelatihan, membantu dalam analisis kinerja model."
      ],
      "metadata": {
        "id": "-50jb5xf8F1_"
      }
    },
    {
      "cell_type": "code",
      "execution_count": null,
      "metadata": {
        "colab": {
          "background_save": true
        },
        "id": "24TX715n3Trs",
        "outputId": "0859fb92-504f-4eab-bd89-9a1c5c6659be"
      },
      "outputs": [
        {
          "data": {
            "image/png": "[encoded data removed]",
            "text/plain": [
              "<Figure size 640x480 with 1 Axes>"
            ]
          },
          "metadata": {},
          "output_type": "display_data"
        },
        {
          "data": {
            "image/png": "[encoded data removed]",
            "text/plain": [
              "<Figure size 640x480 with 1 Axes>"
            ]
          },
          "metadata": {},
          "output_type": "display_data"
        }
      ],
      "source": [
        "# Plot Akurasi\n",
        "plt.plot(history.history['accuracy'], label='Training Accuracy')\n",
        "plt.plot(history.history['val_accuracy'], label='Validation Accuracy')\n",
        "plt.title('Model Accuracy')\n",
        "plt.xlabel('Epoch')\n",
        "plt.ylabel('Accuracy')\n",
        "plt.legend()\n",
        "plt.show()\n",
        "\n",
        "# Plot Loss\n",
        "plt.plot(history.history['loss'], label='Training Loss')\n",
        "plt.plot(history.history['val_loss'], label='Validation Loss')\n",
        "plt.title('Model Loss')\n",
        "plt.xlabel('Epoch')\n",
        "plt.ylabel('Loss')\n",
        "plt.legend()\n",
        "plt.show()"
      ]
    },
    {
      "cell_type": "markdown",
      "metadata": {
        "id": "8YVWpOqATmGS"
      },
      "source": [
        "# SavedModel"
      ]
    },
    {
      "cell_type": "markdown",
      "source": [
        "Kode ini untuk menyimpan model kedalam direktori yang ditentukan, sehingga dapat diakses dan digunakan.\n",
        "1. `tf.saved_model.save(model, 'saved_model')`\n",
        "- Menyimpan model yang telah dilatih ke dalam format SavedModel. Format ini memungkikan model untuk dimuat kembali nanti dan digunakan untuk inferensi atau melanjutkan pelatihan."
      ],
      "metadata": {
        "id": "o4BFp7xK8Ggo"
      }
    },
    {
      "cell_type": "code",
      "execution_count": null,
      "metadata": {
        "colab": {
          "background_save": true
        },
        "id": "jAXfiysiTym6"
      },
      "outputs": [],
      "source": [
        "import tensorflow as tf\n",
        "\n",
        "tf.saved_model.save(model, 'saved_model')"
      ]
    },
    {
      "cell_type": "markdown",
      "metadata": {
        "id": "Ry2Eqe49TkI6"
      },
      "source": [
        "# TF-Lite"
      ]
    },
    {
      "cell_type": "markdown",
      "source": [
        "Kode ini membuat model Keras dan mengonversinya ke format TFLite untuk penggunaan yang lebih efisien pada perangkat ringan.\n",
        "1. `model = tf.keras.models.load_model('hand_gesture_model.h5')`\n",
        "- Memuat model yang telah disimpan sebelumnya dari file hand_gesture_model.h5. model ini sekarang siap digunakan untuk inferensi atau melanjutkan pelatihan.\n",
        "2. `converter = tf.lite.TFLiteConverter.from_keras_model(model)`\n",
        "`tflite_model = converter.convert()`\n",
        "- `tf.lite.TFLiteConverter.from_keras_model(model)`, Membuat converter untuk mengubah model Keras ke format TensorFlow Lite (TFLite),\n",
        "- `tflite_model = converter.convert()`, Mengonversi model Keras ke format TFlite, menghasilkan file model yang lebih ringat dan efisien."
      ],
      "metadata": {
        "id": "PXMjkH9G8G6_"
      }
    },
    {
      "cell_type": "code",
      "execution_count": null,
      "metadata": {
        "colab": {
          "background_save": true
        },
        "collapsed": true,
        "id": "DrISNxiZTiYs",
        "outputId": "705e155f-6241-4818-98d7-e376232fe23e"
      },
      "outputs": [
        {
          "ename": "FileNotFoundError",
          "evalue": "[Errno 2] Unable to synchronously open file (unable to open file: name = 'hand_gesture_model.h5', errno = 2, error message = 'No such file or directory', flags = 0, o_flags = 0)",
          "output_type": "error",
          "traceback": [
            "\u001b[0;31m---------------------------------------------------------------------------\u001b[0m",
            "\u001b[0;31mFileNotFoundError\u001b[0m                         Traceback (most recent call last)",
            "\u001b[0;32m<ipython-input-11-176d47e14612>\u001b[0m in \u001b[0;36m<cell line: 4>\u001b[0;34m()\u001b[0m\n\u001b[1;32m      2\u001b[0m \u001b[0;34m\u001b[0m\u001b[0m\n\u001b[1;32m      3\u001b[0m \u001b[0;34m\u001b[0m\u001b[0m\n\u001b[0;32m----> 4\u001b[0;31m \u001b[0mmodel\u001b[0m \u001b[0;34m=\u001b[0m \u001b[0mtf\u001b[0m\u001b[0;34m.\u001b[0m\u001b[0mkeras\u001b[0m\u001b[0;34m.\u001b[0m\u001b[0mmodels\u001b[0m\u001b[0;34m.\u001b[0m\u001b[0mload_model\u001b[0m\u001b[0;34m(\u001b[0m\u001b[0;34m'hand_gesture_model.h5'\u001b[0m\u001b[0;34m)\u001b[0m\u001b[0;34m\u001b[0m\u001b[0;34m\u001b[0m\u001b[0m\n\u001b[0m\u001b[1;32m      5\u001b[0m \u001b[0;34m\u001b[0m\u001b[0m\n\u001b[1;32m      6\u001b[0m \u001b[0;34m\u001b[0m\u001b[0m\n",
            "\u001b[0;32m/usr/local/lib/python3.10/dist-packages/keras/src/saving/saving_api.py\u001b[0m in \u001b[0;36mload_model\u001b[0;34m(filepath, custom_objects, compile, safe_mode)\u001b[0m\n\u001b[1;32m    187\u001b[0m         )\n\u001b[1;32m    188\u001b[0m     \u001b[0;32mif\u001b[0m \u001b[0mstr\u001b[0m\u001b[0;34m(\u001b[0m\u001b[0mfilepath\u001b[0m\u001b[0;34m)\u001b[0m\u001b[0;34m.\u001b[0m\u001b[0mendswith\u001b[0m\u001b[0;34m(\u001b[0m\u001b[0;34m(\u001b[0m\u001b[0;34m\".h5\"\u001b[0m\u001b[0;34m,\u001b[0m \u001b[0;34m\".hdf5\"\u001b[0m\u001b[0;34m)\u001b[0m\u001b[0;34m)\u001b[0m\u001b[0;34m:\u001b[0m\u001b[0;34m\u001b[0m\u001b[0;34m\u001b[0m\u001b[0m\n\u001b[0;32m--> 189\u001b[0;31m         return legacy_h5_format.load_model_from_hdf5(\n\u001b[0m\u001b[1;32m    190\u001b[0m             \u001b[0mfilepath\u001b[0m\u001b[0;34m,\u001b[0m \u001b[0mcustom_objects\u001b[0m\u001b[0;34m=\u001b[0m\u001b[0mcustom_objects\u001b[0m\u001b[0;34m,\u001b[0m \u001b[0mcompile\u001b[0m\u001b[0;34m=\u001b[0m\u001b[0mcompile\u001b[0m\u001b[0;34m\u001b[0m\u001b[0;34m\u001b[0m\u001b[0m\n\u001b[1;32m    191\u001b[0m         )\n",
            "\u001b[0;32m/usr/local/lib/python3.10/dist-packages/keras/src/legacy/saving/legacy_h5_format.py\u001b[0m in \u001b[0;36mload_model_from_hdf5\u001b[0;34m(filepath, custom_objects, compile)\u001b[0m\n\u001b[1;32m    114\u001b[0m     \u001b[0mopened_new_file\u001b[0m \u001b[0;34m=\u001b[0m \u001b[0;32mnot\u001b[0m \u001b[0misinstance\u001b[0m\u001b[0;34m(\u001b[0m\u001b[0mfilepath\u001b[0m\u001b[0;34m,\u001b[0m \u001b[0mh5py\u001b[0m\u001b[0;34m.\u001b[0m\u001b[0mFile\u001b[0m\u001b[0;34m)\u001b[0m\u001b[0;34m\u001b[0m\u001b[0;34m\u001b[0m\u001b[0m\n\u001b[1;32m    115\u001b[0m     \u001b[0;32mif\u001b[0m \u001b[0mopened_new_file\u001b[0m\u001b[0;34m:\u001b[0m\u001b[0;34m\u001b[0m\u001b[0;34m\u001b[0m\u001b[0m\n\u001b[0;32m--> 116\u001b[0;31m         \u001b[0mf\u001b[0m \u001b[0;34m=\u001b[0m \u001b[0mh5py\u001b[0m\u001b[0;34m.\u001b[0m\u001b[0mFile\u001b[0m\u001b[0;34m(\u001b[0m\u001b[0mfilepath\u001b[0m\u001b[0;34m,\u001b[0m \u001b[0mmode\u001b[0m\u001b[0;34m=\u001b[0m\u001b[0;34m\"r\"\u001b[0m\u001b[0;34m)\u001b[0m\u001b[0;34m\u001b[0m\u001b[0;34m\u001b[0m\u001b[0m\n\u001b[0m\u001b[1;32m    117\u001b[0m     \u001b[0;32melse\u001b[0m\u001b[0;34m:\u001b[0m\u001b[0;34m\u001b[0m\u001b[0;34m\u001b[0m\u001b[0m\n\u001b[1;32m    118\u001b[0m         \u001b[0mf\u001b[0m \u001b[0;34m=\u001b[0m \u001b[0mfilepath\u001b[0m\u001b[0;34m\u001b[0m\u001b[0;34m\u001b[0m\u001b[0m\n",
            "\u001b[0;32m/usr/local/lib/python3.10/dist-packages/h5py/_hl/files.py\u001b[0m in \u001b[0;36m__init__\u001b[0;34m(self, name, mode, driver, libver, userblock_size, swmr, rdcc_nslots, rdcc_nbytes, rdcc_w0, track_order, fs_strategy, fs_persist, fs_threshold, fs_page_size, page_buf_size, min_meta_keep, min_raw_keep, locking, alignment_threshold, alignment_interval, meta_block_size, **kwds)\u001b[0m\n\u001b[1;32m    560\u001b[0m                                  \u001b[0mfs_persist\u001b[0m\u001b[0;34m=\u001b[0m\u001b[0mfs_persist\u001b[0m\u001b[0;34m,\u001b[0m \u001b[0mfs_threshold\u001b[0m\u001b[0;34m=\u001b[0m\u001b[0mfs_threshold\u001b[0m\u001b[0;34m,\u001b[0m\u001b[0;34m\u001b[0m\u001b[0;34m\u001b[0m\u001b[0m\n\u001b[1;32m    561\u001b[0m                                  fs_page_size=fs_page_size)\n\u001b[0;32m--> 562\u001b[0;31m                 \u001b[0mfid\u001b[0m \u001b[0;34m=\u001b[0m \u001b[0mmake_fid\u001b[0m\u001b[0;34m(\u001b[0m\u001b[0mname\u001b[0m\u001b[0;34m,\u001b[0m \u001b[0mmode\u001b[0m\u001b[0;34m,\u001b[0m \u001b[0muserblock_size\u001b[0m\u001b[0;34m,\u001b[0m \u001b[0mfapl\u001b[0m\u001b[0;34m,\u001b[0m \u001b[0mfcpl\u001b[0m\u001b[0;34m,\u001b[0m \u001b[0mswmr\u001b[0m\u001b[0;34m=\u001b[0m\u001b[0mswmr\u001b[0m\u001b[0;34m)\u001b[0m\u001b[0;34m\u001b[0m\u001b[0;34m\u001b[0m\u001b[0m\n\u001b[0m\u001b[1;32m    563\u001b[0m \u001b[0;34m\u001b[0m\u001b[0m\n\u001b[1;32m    564\u001b[0m             \u001b[0;32mif\u001b[0m \u001b[0misinstance\u001b[0m\u001b[0;34m(\u001b[0m\u001b[0mlibver\u001b[0m\u001b[0;34m,\u001b[0m \u001b[0mtuple\u001b[0m\u001b[0;34m)\u001b[0m\u001b[0;34m:\u001b[0m\u001b[0;34m\u001b[0m\u001b[0;34m\u001b[0m\u001b[0m\n",
            "\u001b[0;32m/usr/local/lib/python3.10/dist-packages/h5py/_hl/files.py\u001b[0m in \u001b[0;36mmake_fid\u001b[0;34m(name, mode, userblock_size, fapl, fcpl, swmr)\u001b[0m\n\u001b[1;32m    233\u001b[0m         \u001b[0;32mif\u001b[0m \u001b[0mswmr\u001b[0m \u001b[0;32mand\u001b[0m \u001b[0mswmr_support\u001b[0m\u001b[0;34m:\u001b[0m\u001b[0;34m\u001b[0m\u001b[0;34m\u001b[0m\u001b[0m\n\u001b[1;32m    234\u001b[0m             \u001b[0mflags\u001b[0m \u001b[0;34m|=\u001b[0m \u001b[0mh5f\u001b[0m\u001b[0;34m.\u001b[0m\u001b[0mACC_SWMR_READ\u001b[0m\u001b[0;34m\u001b[0m\u001b[0;34m\u001b[0m\u001b[0m\n\u001b[0;32m--> 235\u001b[0;31m         \u001b[0mfid\u001b[0m \u001b[0;34m=\u001b[0m \u001b[0mh5f\u001b[0m\u001b[0;34m.\u001b[0m\u001b[0mopen\u001b[0m\u001b[0;34m(\u001b[0m\u001b[0mname\u001b[0m\u001b[0;34m,\u001b[0m \u001b[0mflags\u001b[0m\u001b[0;34m,\u001b[0m \u001b[0mfapl\u001b[0m\u001b[0;34m=\u001b[0m\u001b[0mfapl\u001b[0m\u001b[0;34m)\u001b[0m\u001b[0;34m\u001b[0m\u001b[0;34m\u001b[0m\u001b[0m\n\u001b[0m\u001b[1;32m    236\u001b[0m     \u001b[0;32melif\u001b[0m \u001b[0mmode\u001b[0m \u001b[0;34m==\u001b[0m \u001b[0;34m'r+'\u001b[0m\u001b[0;34m:\u001b[0m\u001b[0;34m\u001b[0m\u001b[0;34m\u001b[0m\u001b[0m\n\u001b[1;32m    237\u001b[0m         \u001b[0mfid\u001b[0m \u001b[0;34m=\u001b[0m \u001b[0mh5f\u001b[0m\u001b[0;34m.\u001b[0m\u001b[0mopen\u001b[0m\u001b[0;34m(\u001b[0m\u001b[0mname\u001b[0m\u001b[0;34m,\u001b[0m \u001b[0mh5f\u001b[0m\u001b[0;34m.\u001b[0m\u001b[0mACC_RDWR\u001b[0m\u001b[0;34m,\u001b[0m \u001b[0mfapl\u001b[0m\u001b[0;34m=\u001b[0m\u001b[0mfapl\u001b[0m\u001b[0;34m)\u001b[0m\u001b[0;34m\u001b[0m\u001b[0;34m\u001b[0m\u001b[0m\n",
            "\u001b[0;32mh5py/_objects.pyx\u001b[0m in \u001b[0;36mh5py._objects.with_phil.wrapper\u001b[0;34m()\u001b[0m\n",
            "\u001b[0;32mh5py/_objects.pyx\u001b[0m in \u001b[0;36mh5py._objects.with_phil.wrapper\u001b[0;34m()\u001b[0m\n",
            "\u001b[0;32mh5py/h5f.pyx\u001b[0m in \u001b[0;36mh5py.h5f.open\u001b[0;34m()\u001b[0m\n",
            "\u001b[0;31mFileNotFoundError\u001b[0m: [Errno 2] Unable to synchronously open file (unable to open file: name = 'hand_gesture_model.h5', errno = 2, error message = 'No such file or directory', flags = 0, o_flags = 0)"
          ]
        }
      ],
      "source": [
        "import tensorflow as tf\n",
        "\n",
        "\n",
        "model = tf.keras.models.load_model('hand_gesture_model.h5')\n",
        "\n",
        "\n",
        "converter = tf.lite.TFLiteConverter.from_keras_model(model)\n",
        "tflite_model = converter.convert()\n",
        "\n",
        "\n",
        "with open('hand_gesture_model.tflite', 'wb') as f:\n",
        "    f.write(tflite_model)\n",
        "\n",
        "with open('label.txt', 'w') as f:\n",
        "    labels = train_generator.class_indices\n",
        "    for label in labels:\n",
        "        f.write(f'{label}\\n')"
      ]
    },
    {
      "cell_type": "markdown",
      "metadata": {
        "id": "o8r1n7_JTgmt"
      },
      "source": [
        "# Format TFJS"
      ]
    },
    {
      "cell_type": "markdown",
      "source": [
        "Kode ini memungkikan model keras untuk digunakan dalam aplikasi berbasis web dengan mengonversinya keformat yang sesuai untuk TensorFlow.js.\n",
        "\n",
        "1. `tfjs.converters.save_keras_model(model, 'hand_gesture_tfjs_model')`\n",
        "- Mengonversi model keras yang telah dilatih dan menyimpannya dalam format yang dapat digunakan oleh TensorFlow.JS."
      ],
      "metadata": {
        "id": "a0on6lnm8HhX"
      }
    },
    {
      "cell_type": "code",
      "execution_count": null,
      "metadata": {
        "colab": {
          "background_save": true
        },
        "collapsed": true,
        "id": "4tl2IUhhSQ_h"
      },
      "outputs": [],
      "source": [
        "!pip install tensorflowjs\n",
        "import tensorflowjs as tfjs\n",
        "\n",
        "tfjs.converters.save_keras_model(model, 'hand_gesture_tfjs_model')"
      ]
    },
    {
      "cell_type": "markdown",
      "metadata": {
        "id": "ZJChWVLv3bYd"
      },
      "source": [
        "# Evaluasi Model"
      ]
    },
    {
      "cell_type": "markdown",
      "source": [
        "Kode ini digunakan untuk mengevaluasi akurasi model dataset validasi dan mencetak hasil akurasi.\n",
        "1. `model.evaluate(validation_generator, verbose=2)`\n",
        "- Menggunakan metode evaluate untuk mengukur kinerja model pada data validasi yang disediakan oleh validation_generator. fungsi ini mengembalikan dua nilai `test_loss` dan `test_acc`.\n",
        "- `verbose=2`, Menentukan tingkat detail output yang akan ditampilkan saat evaluasi, dalam hal ini menampilkan hasil evaluasi per epoch."
      ],
      "metadata": {
        "id": "YHPSsGnU8IAH"
      }
    },
    {
      "cell_type": "code",
      "execution_count": null,
      "metadata": {
        "colab": {
          "background_save": true
        },
        "id": "UzZ8ZIs_3alU"
      },
      "outputs": [],
      "source": [
        "test_loss, test_acc = model.evaluate(validation_generator, verbose=2)\n",
        "print(f\"Test accuracy: {test_acc}\")"
      ]
    }
  ],
  "metadata": {
    "colab": {
      "provenance": [],
      "collapsed_sections": [
        "jYpsuK3e20G2",
        "gO-eb7bB28sl",
        "WaEpBrOn3KXM",
        "eS1vor1I3VBW",
        "8YVWpOqATmGS",
        "Ry2Eqe49TkI6",
        "o8r1n7_JTgmt",
        "ZJChWVLv3bYd"
      ],
      "authorship_tag": "ABX9TyNCkt/B0nJe4xZUf5xqlxPF",
      "include_colab_link": true
    },
    "kernelspec": {
      "display_name": "Python 3",
      "name": "python3"
    },
    "language_info": {
      "name": "python"
    }
  },
  "nbformat": 4,
  "nbformat_minor": 0
}